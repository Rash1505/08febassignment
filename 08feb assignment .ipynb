{
 "cells": [
  {
   "cell_type": "markdown",
   "id": "901ce7a5-42c2-42ad-a4de-1d947e4c774c",
   "metadata": {},
   "source": [
    "Q1. what is Abstraction in OOPs? explain with example"
   ]
  },
  {
   "cell_type": "markdown",
   "id": "bfe53c40-aeab-4c95-b5e6-82e201a38da6",
   "metadata": {},
   "source": [
    "Abstraction is used to create a blueprint , it is the process of hiding internal details from outer world."
   ]
  },
  {
   "cell_type": "markdown",
   "id": "5480bb73-5e05-4ace-a831-335e8534a0a3",
   "metadata": {},
   "source": [
    "example of Abstraction"
   ]
  },
  {
   "cell_type": "code",
   "execution_count": 1,
   "id": "d3bf2f26-6a41-4113-836e-98b6c5236d29",
   "metadata": {},
   "outputs": [],
   "source": [
    "import abc\n",
    "\n",
    "class HHC:\n",
    "    \n",
    "    @abc.abstractclassmethod\n",
    "    def student_details(self):\n",
    "        pass\n",
    "    \n",
    "    @abc.abstractclassmethod\n",
    "    def student_assignment(self):\n",
    "        pass\n",
    "    \n",
    "    @abc.abstractclassmethod\n",
    "    def student_marks(self):\n",
    "        pass"
   ]
  },
  {
   "cell_type": "code",
   "execution_count": 10,
   "id": "0749ed95-8f8c-454c-9cd2-668ce6bb7e3b",
   "metadata": {},
   "outputs": [],
   "source": [
    "class Physics_class(HHC):\n",
    "    \n",
    "    def student_details(self):\n",
    "        return 'this is a method for taking student of physics class'\n",
    "    \n",
    "    def student_assignment(self):\n",
    "        return 'this is a method for assigning the physics assignment'\n",
    "    "
   ]
  },
  {
   "cell_type": "code",
   "execution_count": 11,
   "id": "18a453f1-bff5-4b15-bf2e-7ee8b1f56139",
   "metadata": {},
   "outputs": [],
   "source": [
    "class Chemistry_class(HHC):\n",
    "    \n",
    "    def student_details(self):\n",
    "        return 'this is a method for taking student of chemistry class'\n",
    "    \n",
    "    def student_assignment(self):\n",
    "        return 'this is a method for assigning the chemistry assignment'\n",
    "    "
   ]
  },
  {
   "cell_type": "code",
   "execution_count": 12,
   "id": "efd39443-799d-4c52-9c93-9a8e9eb89401",
   "metadata": {},
   "outputs": [],
   "source": [
    "p= Physics_class()"
   ]
  },
  {
   "cell_type": "code",
   "execution_count": 13,
   "id": "06b7d190-59c0-4eab-8af5-e9ec9f2fbf3c",
   "metadata": {},
   "outputs": [
    {
     "data": {
      "text/plain": [
       "'this is a method for assigning the physics assignment'"
      ]
     },
     "execution_count": 13,
     "metadata": {},
     "output_type": "execute_result"
    }
   ],
   "source": [
    "p.student_assignment()"
   ]
  },
  {
   "cell_type": "code",
   "execution_count": 14,
   "id": "390bc143-8342-4f23-a507-bc08b23de75c",
   "metadata": {},
   "outputs": [],
   "source": [
    "c=Chemistry_class()"
   ]
  },
  {
   "cell_type": "code",
   "execution_count": 15,
   "id": "120c6674-80d2-47e1-800d-7e751feb900a",
   "metadata": {},
   "outputs": [
    {
     "data": {
      "text/plain": [
       "'this is a method for taking student of chemistry class'"
      ]
     },
     "execution_count": 15,
     "metadata": {},
     "output_type": "execute_result"
    }
   ],
   "source": [
    "c.student_details()"
   ]
  },
  {
   "cell_type": "markdown",
   "id": "6a892068-27c6-420d-bc84-39707aa165c2",
   "metadata": {},
   "source": [
    "Q2. Difference between Abstraction and Encapsulation. explain with example"
   ]
  },
  {
   "cell_type": "markdown",
   "id": "91eeec31-49f0-47df-a2d7-c50e9f8c14d5",
   "metadata": {},
   "source": [
    "Abstraction and Encapsulation both are used to hide the details but abstraction is hide the details and \n",
    " implement the code . Encapsulation is hide the details and control the visibilty of code."
   ]
  },
  {
   "cell_type": "markdown",
   "id": "b005708d-b697-4eb6-b768-0c2afdd47651",
   "metadata": {},
   "source": [
    "example of abstraction"
   ]
  },
  {
   "cell_type": "code",
   "execution_count": 16,
   "id": "be2b1db0-7713-476e-906b-cd11183385cd",
   "metadata": {},
   "outputs": [],
   "source": [
    "import abc\n",
    "\n",
    "class pwskills:\n",
    "    \n",
    "    @abc.abstractclassmethod\n",
    "    def student_details(self):\n",
    "        pass\n",
    "    @abc.abstractclassmethod\n",
    "    def student_marks(self):\n",
    "        pass\n",
    "    \n",
    "    "
   ]
  },
  {
   "cell_type": "code",
   "execution_count": 17,
   "id": "556da611-40f1-47e9-ae27-d84ac9aa60a3",
   "metadata": {},
   "outputs": [],
   "source": [
    "class Data_science(pwskills):\n",
    "    \n",
    "    def student_details(self):\n",
    "        return 'this method will give the details of student'\n",
    "    \n",
    "    def student_marks(self):\n",
    "        return ' this method will give the marks of student'\n",
    "    "
   ]
  },
  {
   "cell_type": "code",
   "execution_count": 19,
   "id": "9f4a7fec-81ab-444f-b804-cdf0321a9616",
   "metadata": {},
   "outputs": [],
   "source": [
    "class Web_dev(pwskills):\n",
    "    \n",
    "    def student_details(self):\n",
    "        return 'this method will return the details of student'\n",
    "    \n",
    "    def student_marks(self):\n",
    "        return 'this  method will return the marks of student'\n",
    "    "
   ]
  },
  {
   "cell_type": "code",
   "execution_count": 20,
   "id": "cc2a956a-5d42-4b87-aae6-af13550ffca1",
   "metadata": {},
   "outputs": [],
   "source": [
    "ds=Data_science()"
   ]
  },
  {
   "cell_type": "code",
   "execution_count": 21,
   "id": "ef24d4ae-4f7d-4b97-95f1-ee08a1a72d24",
   "metadata": {},
   "outputs": [
    {
     "data": {
      "text/plain": [
       "' this method will give the marks of student'"
      ]
     },
     "execution_count": 21,
     "metadata": {},
     "output_type": "execute_result"
    }
   ],
   "source": [
    "ds.student_marks()"
   ]
  },
  {
   "cell_type": "code",
   "execution_count": 22,
   "id": "ead48635-5caf-4338-96ca-9cf353ab0a0b",
   "metadata": {},
   "outputs": [],
   "source": [
    "wd=Web_dev()"
   ]
  },
  {
   "cell_type": "code",
   "execution_count": 23,
   "id": "f0bac5dc-164d-42d6-b013-3df38fb69bd8",
   "metadata": {},
   "outputs": [
    {
     "data": {
      "text/plain": [
       "'this method will return the details of student'"
      ]
     },
     "execution_count": 23,
     "metadata": {},
     "output_type": "execute_result"
    }
   ],
   "source": [
    "wd.student_details()"
   ]
  },
  {
   "cell_type": "markdown",
   "id": "847c1dfb-3d19-4ad3-802b-265d358d8f5e",
   "metadata": {},
   "source": [
    "example of Encapsulation"
   ]
  },
  {
   "cell_type": "code",
   "execution_count": 24,
   "id": "fca2ffe1-f95c-45fd-b78a-db08ae855bbb",
   "metadata": {},
   "outputs": [],
   "source": [
    "class car:\n",
    "    \n",
    "    def __init__(self, year, model, speed):\n",
    "        self.__year = year\n",
    "        self.__model = model\n",
    "        self.__speed = 0\n",
    "        \n",
    "    def set_speed(self, speed):\n",
    "        self.__speed = 0 if speed < 0 else speed\n",
    "        \n",
    "    def get_speed(self):\n",
    "        return self.__speed"
   ]
  },
  {
   "cell_type": "code",
   "execution_count": 25,
   "id": "12a7133f-7944-4f3e-bd1f-27ce452654e5",
   "metadata": {},
   "outputs": [],
   "source": [
    "c =  car( 2011, 'innova' , 344)"
   ]
  },
  {
   "cell_type": "code",
   "execution_count": 29,
   "id": "c4ea5376-e50f-47f6-bfe4-2deef886df12",
   "metadata": {},
   "outputs": [
    {
     "data": {
      "text/plain": [
       "2011"
      ]
     },
     "execution_count": 29,
     "metadata": {},
     "output_type": "execute_result"
    }
   ],
   "source": [
    "c._car__year"
   ]
  },
  {
   "cell_type": "code",
   "execution_count": 30,
   "id": "8c7c7566-32aa-4265-8b86-f8d1504c54d5",
   "metadata": {},
   "outputs": [
    {
     "data": {
      "text/plain": [
       "'innova'"
      ]
     },
     "execution_count": 30,
     "metadata": {},
     "output_type": "execute_result"
    }
   ],
   "source": [
    "c._car__model"
   ]
  },
  {
   "cell_type": "code",
   "execution_count": 31,
   "id": "20e606e7-2652-46a7-a131-4e439dbcb18d",
   "metadata": {},
   "outputs": [],
   "source": [
    "c.set_speed(2345)"
   ]
  },
  {
   "cell_type": "code",
   "execution_count": 33,
   "id": "df3c4e89-bf1b-4ba8-85f3-f89255930bd6",
   "metadata": {},
   "outputs": [
    {
     "data": {
      "text/plain": [
       "2345"
      ]
     },
     "execution_count": 33,
     "metadata": {},
     "output_type": "execute_result"
    }
   ],
   "source": [
    "c.get_speed()"
   ]
  },
  {
   "cell_type": "markdown",
   "id": "c6cbb598-9895-4cfa-add6-ad032894e355",
   "metadata": {},
   "source": [
    "Q3. What is abc module in python? Why is it used?"
   ]
  },
  {
   "cell_type": "markdown",
   "id": "57c7c38c-42c1-4787-be18-fd76c799edb4",
   "metadata": {},
   "source": [
    "abc module provides the infrastructure for defining abstraction base classes \n",
    " it is a in-built function in python for abstract method and it is decorated with @abc.abstractmethod"
   ]
  },
  {
   "cell_type": "markdown",
   "id": "84207209-d346-4921-886b-47bc7be14937",
   "metadata": {},
   "source": [
    "Q4. How can we achieve data abstraction?"
   ]
  },
  {
   "cell_type": "markdown",
   "id": "88449d1c-e560-424f-88d0-2245d14347d5",
   "metadata": {},
   "source": [
    "data abstraction can be acheive by using abstract method and by importing the abc model\n"
   ]
  },
  {
   "cell_type": "markdown",
   "id": "3b871d03-794d-4f7f-9036-343f9d01f858",
   "metadata": {},
   "source": [
    "Q5. Can we create an instance of an abstract class? explain your answer."
   ]
  },
  {
   "cell_type": "markdown",
   "id": "26adc0e7-4f86-4257-b1e7-9937ad61e89e",
   "metadata": {},
   "source": [
    "No, because the abstract class are not complete, as it has some methods which are not defined."
   ]
  },
  {
   "cell_type": "code",
   "execution_count": null,
   "id": "06041fd3-9296-4f11-87ea-49affbad9f43",
   "metadata": {},
   "outputs": [],
   "source": []
  }
 ],
 "metadata": {
  "kernelspec": {
   "display_name": "Python 3 (ipykernel)",
   "language": "python",
   "name": "python3"
  },
  "language_info": {
   "codemirror_mode": {
    "name": "ipython",
    "version": 3
   },
   "file_extension": ".py",
   "mimetype": "text/x-python",
   "name": "python",
   "nbconvert_exporter": "python",
   "pygments_lexer": "ipython3",
   "version": "3.10.8"
  }
 },
 "nbformat": 4,
 "nbformat_minor": 5
}
